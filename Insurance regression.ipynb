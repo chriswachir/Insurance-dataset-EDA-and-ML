{
 "cells": [
  {
   "cell_type": "markdown",
   "id": "55a48dad",
   "metadata": {},
   "source": [
    "## Analysis and Charges Prediction on Insurance dataset"
   ]
  },
  {
   "cell_type": "code",
   "execution_count": 73,
   "id": "9aa75596",
   "metadata": {},
   "outputs": [],
   "source": [
    "#import necessary libraries\n",
    "import pandas as pd\n",
    "import numpy as np\n",
    "import matplotlib.pyplot as plt\n",
    "import seaborn as sns\n",
    "import sklearn\n",
    "import warnings\n",
    "warnings.filterwarnings('ignore')\n",
    "pd.set_option('display.max_columns', None)\n",
    "pd.set_option(\"max_rows\", None)"
   ]
  },
  {
   "cell_type": "code",
   "execution_count": 74,
   "id": "9870a946",
   "metadata": {},
   "outputs": [
    {
     "data": {
      "text/html": [
       "<div>\n",
       "<style scoped>\n",
       "    .dataframe tbody tr th:only-of-type {\n",
       "        vertical-align: middle;\n",
       "    }\n",
       "\n",
       "    .dataframe tbody tr th {\n",
       "        vertical-align: top;\n",
       "    }\n",
       "\n",
       "    .dataframe thead th {\n",
       "        text-align: right;\n",
       "    }\n",
       "</style>\n",
       "<table border=\"1\" class=\"dataframe\">\n",
       "  <thead>\n",
       "    <tr style=\"text-align: right;\">\n",
       "      <th></th>\n",
       "      <th>age</th>\n",
       "      <th>sex</th>\n",
       "      <th>bmi</th>\n",
       "      <th>children</th>\n",
       "      <th>smoker</th>\n",
       "      <th>region</th>\n",
       "      <th>charges</th>\n",
       "    </tr>\n",
       "  </thead>\n",
       "  <tbody>\n",
       "    <tr>\n",
       "      <th>0</th>\n",
       "      <td>19</td>\n",
       "      <td>female</td>\n",
       "      <td>27.900</td>\n",
       "      <td>0</td>\n",
       "      <td>yes</td>\n",
       "      <td>southwest</td>\n",
       "      <td>16884.92400</td>\n",
       "    </tr>\n",
       "    <tr>\n",
       "      <th>1</th>\n",
       "      <td>18</td>\n",
       "      <td>male</td>\n",
       "      <td>33.770</td>\n",
       "      <td>1</td>\n",
       "      <td>no</td>\n",
       "      <td>southeast</td>\n",
       "      <td>1725.55230</td>\n",
       "    </tr>\n",
       "    <tr>\n",
       "      <th>2</th>\n",
       "      <td>28</td>\n",
       "      <td>male</td>\n",
       "      <td>33.000</td>\n",
       "      <td>3</td>\n",
       "      <td>no</td>\n",
       "      <td>southeast</td>\n",
       "      <td>4449.46200</td>\n",
       "    </tr>\n",
       "    <tr>\n",
       "      <th>3</th>\n",
       "      <td>33</td>\n",
       "      <td>male</td>\n",
       "      <td>22.705</td>\n",
       "      <td>0</td>\n",
       "      <td>no</td>\n",
       "      <td>northwest</td>\n",
       "      <td>21984.47061</td>\n",
       "    </tr>\n",
       "    <tr>\n",
       "      <th>4</th>\n",
       "      <td>32</td>\n",
       "      <td>male</td>\n",
       "      <td>28.880</td>\n",
       "      <td>0</td>\n",
       "      <td>no</td>\n",
       "      <td>northwest</td>\n",
       "      <td>3866.85520</td>\n",
       "    </tr>\n",
       "  </tbody>\n",
       "</table>\n",
       "</div>"
      ],
      "text/plain": [
       "   age     sex     bmi  children smoker     region      charges\n",
       "0   19  female  27.900         0    yes  southwest  16884.92400\n",
       "1   18    male  33.770         1     no  southeast   1725.55230\n",
       "2   28    male  33.000         3     no  southeast   4449.46200\n",
       "3   33    male  22.705         0     no  northwest  21984.47061\n",
       "4   32    male  28.880         0     no  northwest   3866.85520"
      ]
     },
     "execution_count": 74,
     "metadata": {},
     "output_type": "execute_result"
    }
   ],
   "source": [
    "#import the dataset\n",
    "data = pd.read_csv(\"insurance.csv\")\n",
    "data.head()\n"
   ]
  },
  {
   "cell_type": "code",
   "execution_count": null,
   "id": "6dd2f61c",
   "metadata": {},
   "outputs": [],
   "source": []
  },
  {
   "cell_type": "markdown",
   "id": "869e592d",
   "metadata": {},
   "source": [
    "#### Exploring dataset"
   ]
  },
  {
   "cell_type": "code",
   "execution_count": 75,
   "id": "9b70dc21",
   "metadata": {},
   "outputs": [
    {
     "data": {
      "text/plain": [
       "(1338, 7)"
      ]
     },
     "execution_count": 75,
     "metadata": {},
     "output_type": "execute_result"
    }
   ],
   "source": [
    "data.shape"
   ]
  },
  {
   "cell_type": "code",
   "execution_count": 76,
   "id": "88cdec9a",
   "metadata": {},
   "outputs": [
    {
     "data": {
      "text/plain": [
       "age           int64\n",
       "sex          object\n",
       "bmi         float64\n",
       "children      int64\n",
       "smoker       object\n",
       "region       object\n",
       "charges     float64\n",
       "dtype: object"
      ]
     },
     "execution_count": 76,
     "metadata": {},
     "output_type": "execute_result"
    }
   ],
   "source": [
    "data.dtypes"
   ]
  },
  {
   "cell_type": "code",
   "execution_count": null,
   "id": "cb4fc180",
   "metadata": {},
   "outputs": [],
   "source": []
  },
  {
   "cell_type": "code",
   "execution_count": 77,
   "id": "d0fe5f2c",
   "metadata": {},
   "outputs": [
    {
     "data": {
      "text/plain": [
       "male      676\n",
       "female    662\n",
       "Name: sex, dtype: int64"
      ]
     },
     "execution_count": 77,
     "metadata": {},
     "output_type": "execute_result"
    }
   ],
   "source": [
    "data.sex.value_counts()"
   ]
  },
  {
   "cell_type": "code",
   "execution_count": 78,
   "id": "b0cb5790",
   "metadata": {},
   "outputs": [
    {
     "data": {
      "text/plain": [
       "no     0.795217\n",
       "yes    0.204783\n",
       "Name: smoker, dtype: float64"
      ]
     },
     "execution_count": 78,
     "metadata": {},
     "output_type": "execute_result"
    }
   ],
   "source": [
    "data.smoker.value_counts(normalize = True)"
   ]
  },
  {
   "cell_type": "code",
   "execution_count": 79,
   "id": "e635154c",
   "metadata": {},
   "outputs": [
    {
     "data": {
      "text/plain": [
       "southeast    0.272048\n",
       "northwest    0.242900\n",
       "southwest    0.242900\n",
       "northeast    0.242152\n",
       "Name: region, dtype: float64"
      ]
     },
     "execution_count": 79,
     "metadata": {},
     "output_type": "execute_result"
    }
   ],
   "source": [
    "data.region.value_counts(normalize = True)"
   ]
  },
  {
   "cell_type": "code",
   "execution_count": 80,
   "id": "be5d4f10",
   "metadata": {},
   "outputs": [
    {
     "data": {
      "text/html": [
       "<div>\n",
       "<style scoped>\n",
       "    .dataframe tbody tr th:only-of-type {\n",
       "        vertical-align: middle;\n",
       "    }\n",
       "\n",
       "    .dataframe tbody tr th {\n",
       "        vertical-align: top;\n",
       "    }\n",
       "\n",
       "    .dataframe thead th {\n",
       "        text-align: right;\n",
       "    }\n",
       "</style>\n",
       "<table border=\"1\" class=\"dataframe\">\n",
       "  <thead>\n",
       "    <tr style=\"text-align: right;\">\n",
       "      <th></th>\n",
       "      <th>age</th>\n",
       "      <th>bmi</th>\n",
       "      <th>children</th>\n",
       "      <th>charges</th>\n",
       "    </tr>\n",
       "  </thead>\n",
       "  <tbody>\n",
       "    <tr>\n",
       "      <th>count</th>\n",
       "      <td>1338.000000</td>\n",
       "      <td>1338.000000</td>\n",
       "      <td>1338.000000</td>\n",
       "      <td>1338.000000</td>\n",
       "    </tr>\n",
       "    <tr>\n",
       "      <th>mean</th>\n",
       "      <td>39.207025</td>\n",
       "      <td>30.663397</td>\n",
       "      <td>1.094918</td>\n",
       "      <td>13270.422265</td>\n",
       "    </tr>\n",
       "    <tr>\n",
       "      <th>std</th>\n",
       "      <td>14.049960</td>\n",
       "      <td>6.098187</td>\n",
       "      <td>1.205493</td>\n",
       "      <td>12110.011237</td>\n",
       "    </tr>\n",
       "    <tr>\n",
       "      <th>min</th>\n",
       "      <td>18.000000</td>\n",
       "      <td>15.960000</td>\n",
       "      <td>0.000000</td>\n",
       "      <td>1121.873900</td>\n",
       "    </tr>\n",
       "    <tr>\n",
       "      <th>25%</th>\n",
       "      <td>27.000000</td>\n",
       "      <td>26.296250</td>\n",
       "      <td>0.000000</td>\n",
       "      <td>4740.287150</td>\n",
       "    </tr>\n",
       "    <tr>\n",
       "      <th>50%</th>\n",
       "      <td>39.000000</td>\n",
       "      <td>30.400000</td>\n",
       "      <td>1.000000</td>\n",
       "      <td>9382.033000</td>\n",
       "    </tr>\n",
       "    <tr>\n",
       "      <th>75%</th>\n",
       "      <td>51.000000</td>\n",
       "      <td>34.693750</td>\n",
       "      <td>2.000000</td>\n",
       "      <td>16639.912515</td>\n",
       "    </tr>\n",
       "    <tr>\n",
       "      <th>max</th>\n",
       "      <td>64.000000</td>\n",
       "      <td>53.130000</td>\n",
       "      <td>5.000000</td>\n",
       "      <td>63770.428010</td>\n",
       "    </tr>\n",
       "  </tbody>\n",
       "</table>\n",
       "</div>"
      ],
      "text/plain": [
       "               age          bmi     children       charges\n",
       "count  1338.000000  1338.000000  1338.000000   1338.000000\n",
       "mean     39.207025    30.663397     1.094918  13270.422265\n",
       "std      14.049960     6.098187     1.205493  12110.011237\n",
       "min      18.000000    15.960000     0.000000   1121.873900\n",
       "25%      27.000000    26.296250     0.000000   4740.287150\n",
       "50%      39.000000    30.400000     1.000000   9382.033000\n",
       "75%      51.000000    34.693750     2.000000  16639.912515\n",
       "max      64.000000    53.130000     5.000000  63770.428010"
      ]
     },
     "execution_count": 80,
     "metadata": {},
     "output_type": "execute_result"
    }
   ],
   "source": [
    "# Descriptive statistics\n",
    "data.describe()"
   ]
  },
  {
   "cell_type": "code",
   "execution_count": null,
   "id": "bfc18634",
   "metadata": {},
   "outputs": [],
   "source": []
  },
  {
   "cell_type": "code",
   "execution_count": null,
   "id": "c89d364f",
   "metadata": {},
   "outputs": [],
   "source": []
  },
  {
   "cell_type": "code",
   "execution_count": null,
   "id": "a4484b39",
   "metadata": {},
   "outputs": [],
   "source": []
  },
  {
   "cell_type": "markdown",
   "id": "ef33cdf7",
   "metadata": {},
   "source": [
    "#### Data cleaning"
   ]
  },
  {
   "cell_type": "code",
   "execution_count": 81,
   "id": "540ad65b",
   "metadata": {},
   "outputs": [
    {
     "data": {
      "text/plain": [
       "age         0\n",
       "sex         0\n",
       "bmi         0\n",
       "children    0\n",
       "smoker      0\n",
       "region      0\n",
       "charges     0\n",
       "dtype: int64"
      ]
     },
     "execution_count": 81,
     "metadata": {},
     "output_type": "execute_result"
    }
   ],
   "source": [
    "# Null values\n",
    "data.isna().sum()"
   ]
  },
  {
   "cell_type": "code",
   "execution_count": 82,
   "id": "4d1dfc28",
   "metadata": {},
   "outputs": [
    {
     "data": {
      "text/plain": [
       "1"
      ]
     },
     "execution_count": 82,
     "metadata": {},
     "output_type": "execute_result"
    }
   ],
   "source": [
    "#duplicates\n",
    "data.duplicated().sum()"
   ]
  },
  {
   "cell_type": "code",
   "execution_count": 83,
   "id": "658ffdbb",
   "metadata": {},
   "outputs": [],
   "source": [
    "# Outliers\n",
    "# Get the categorical and numerical variables\n",
    "categorical_variables_df= data.select_dtypes(include=['object'])\n",
    "numerical_variables_df= data.select_dtypes(exclude=['object'])\n"
   ]
  },
  {
   "cell_type": "code",
   "execution_count": 84,
   "id": "a066f1a9",
   "metadata": {},
   "outputs": [
    {
     "data": {
      "image/png": "[encoded data removed]",
      "text/plain": [
       "<Figure size 1080x432 with 1 Axes>"
      ]
     },
     "metadata": {
      "needs_background": "light"
     },
     "output_type": "display_data"
    }
   ],
   "source": [
    "##Boxplots\n",
    "for c in numerical_variables_df:\n",
    "    numerical_variables_df[c] = np.log(numerical_variables_df[c])\n",
    "fig_dims = (15, 6)\n",
    "fig, ax = plt.subplots(figsize=fig_dims)\n",
    "df = pd.DataFrame(data = numerical_variables_df, columns = numerical_variables_df.columns)\n",
    "\n",
    "sns.boxplot(x=\"variable\", y=\"value\",ax=ax, data=pd.melt(df))\n",
    "\n",
    "plt.show()"
   ]
  },
  {
   "cell_type": "markdown",
   "id": "cb2a08d8",
   "metadata": {},
   "source": [
    "The dataset is considerably clean, no missing values, only one duplicate and no lots of outliers."
   ]
  },
  {
   "cell_type": "code",
   "execution_count": null,
   "id": "f3997721",
   "metadata": {},
   "outputs": [],
   "source": []
  },
  {
   "cell_type": "code",
   "execution_count": null,
   "id": "a4883d18",
   "metadata": {},
   "outputs": [],
   "source": []
  },
  {
   "cell_type": "markdown",
   "id": "bc1e30c5",
   "metadata": {},
   "source": [
    "#### Exploratory data analysis"
   ]
  },
  {
   "cell_type": "code",
   "execution_count": 85,
   "id": "ee8d3cef",
   "metadata": {
    "scrolled": true
   },
   "outputs": [
    {
     "data": {
      "image/png": "[encoded data removed]",
      "text/plain": [
       "<Figure size 432x288 with 1 Axes>"
      ]
     },
     "metadata": {
      "needs_background": "light"
     },
     "output_type": "display_data"
    },
    {
     "data": {
      "image/png": "[encoded data removed]",
      "text/plain": [
       "<Figure size 432x288 with 1 Axes>"
      ]
     },
     "metadata": {
      "needs_background": "light"
     },
     "output_type": "display_data"
    },
    {
     "data": {
      "image/png": "[encoded data removed]",
      "text/plain": [
       "<Figure size 432x288 with 1 Axes>"
      ]
     },
     "metadata": {
      "needs_background": "light"
     },
     "output_type": "display_data"
    }
   ],
   "source": [
    "# Univariate analysis\n",
    "def bar():\n",
    "    fig =  plt.subplots()\n",
    "    for feature in categorical_variables_df:\n",
    "        cat = data[feature].value_counts(normalize=True) # this hould make the adjust the scoop of to the vie\n",
    "        chart = sns.barplot(cat.index , cat)\n",
    "        chart.set_xticklabels(chart.get_xticklabels() , rotation = 60)\n",
    "\n",
    "        plt.title(feature)\n",
    "        plt.show()\n",
    "bar()"
   ]
  },
  {
   "cell_type": "markdown",
   "id": "92785cb2",
   "metadata": {},
   "source": [
    "The proportion of male to females was almost half.\n",
    "About 79% of the population umder study were non smokers\n",
    "Most of the study population about 27.2% were from south East"
   ]
  },
  {
   "cell_type": "markdown",
   "id": "1c8bf62e",
   "metadata": {},
   "source": []
  },
  {
   "cell_type": "code",
   "execution_count": 86,
   "id": "ef829dff",
   "metadata": {},
   "outputs": [
    {
     "data": {
      "image/png": "[encoded data removed]",
      "text/plain": [
       "<Figure size 720x360 with 1 Axes>"
      ]
     },
     "metadata": {
      "needs_background": "light"
     },
     "output_type": "display_data"
    },
    {
     "data": {
      "image/png": "[encoded data removed]",
      "text/plain": [
       "<Figure size 720x360 with 1 Axes>"
      ]
     },
     "metadata": {
      "needs_background": "light"
     },
     "output_type": "display_data"
    }
   ],
   "source": [
    "# Bivariate analyis\n",
    "def stacked_bar():\n",
    "    categorical_variables_df1 = categorical_variables_df.drop('sex',axis=1) \n",
    "    target = data.sex\n",
    "    for feature in categorical_variables_df1:\n",
    "        cross_tab = pd.crosstab(data[feature],target)\n",
    "        cross_tab.div(cross_tab.sum(1).astype(float), axis=0).plot(kind=\"bar\", stacked=False, figsize=(10,5), grid= True)\n",
    "        plt.show()\n",
    "stacked_bar()"
   ]
  },
  {
   "cell_type": "markdown",
   "id": "58d7f16b",
   "metadata": {},
   "source": [
    "The number of smokers in the population is significantly higer in males than females.\n",
    "Gender proportions from the regions of study were almost equal."
   ]
  },
  {
   "cell_type": "code",
   "execution_count": null,
   "id": "524ba00e",
   "metadata": {},
   "outputs": [],
   "source": []
  },
  {
   "cell_type": "code",
   "execution_count": 87,
   "id": "3039caa9",
   "metadata": {},
   "outputs": [
    {
     "data": {
      "text/plain": [
       "array([[<AxesSubplot:title={'center':'age'}>,\n",
       "        <AxesSubplot:title={'center':'bmi'}>],\n",
       "       [<AxesSubplot:title={'center':'children'}>,\n",
       "        <AxesSubplot:title={'center':'charges'}>]], dtype=object)"
      ]
     },
     "execution_count": 87,
     "metadata": {},
     "output_type": "execute_result"
    },
    {
     "data": {
      "image/png": "[encoded data removed]",
      "text/plain": [
       "<Figure size 432x288 with 4 Axes>"
      ]
     },
     "metadata": {
      "needs_background": "light"
     },
     "output_type": "display_data"
    }
   ],
   "source": [
    "data.hist()"
   ]
  },
  {
   "cell_type": "code",
   "execution_count": 88,
   "id": "c75caff7",
   "metadata": {},
   "outputs": [
    {
     "data": {
      "text/plain": [
       "age         0.055673\n",
       "bmi         0.284047\n",
       "children    0.938380\n",
       "charges     1.515880\n",
       "dtype: float64"
      ]
     },
     "execution_count": 88,
     "metadata": {},
     "output_type": "execute_result"
    }
   ],
   "source": [
    "data.skew()"
   ]
  },
  {
   "cell_type": "markdown",
   "id": "f3059043",
   "metadata": {},
   "source": [
    "Bmi has a normal distribution, while children and charges are skewed to the right."
   ]
  },
  {
   "cell_type": "code",
   "execution_count": null,
   "id": "d6172d4b",
   "metadata": {},
   "outputs": [],
   "source": []
  },
  {
   "cell_type": "markdown",
   "id": "5935f799",
   "metadata": {},
   "source": [
    "#### Correlation"
   ]
  },
  {
   "cell_type": "code",
   "execution_count": 89,
   "id": "9f556156",
   "metadata": {},
   "outputs": [
    {
     "data": {
      "text/html": [
       "<div>\n",
       "<style scoped>\n",
       "    .dataframe tbody tr th:only-of-type {\n",
       "        vertical-align: middle;\n",
       "    }\n",
       "\n",
       "    .dataframe tbody tr th {\n",
       "        vertical-align: top;\n",
       "    }\n",
       "\n",
       "    .dataframe thead th {\n",
       "        text-align: right;\n",
       "    }\n",
       "</style>\n",
       "<table border=\"1\" class=\"dataframe\">\n",
       "  <thead>\n",
       "    <tr style=\"text-align: right;\">\n",
       "      <th></th>\n",
       "      <th>age</th>\n",
       "      <th>bmi</th>\n",
       "      <th>children</th>\n",
       "      <th>charges</th>\n",
       "    </tr>\n",
       "  </thead>\n",
       "  <tbody>\n",
       "    <tr>\n",
       "      <th>age</th>\n",
       "      <td>1.000000</td>\n",
       "      <td>0.109272</td>\n",
       "      <td>0.042469</td>\n",
       "      <td>0.299008</td>\n",
       "    </tr>\n",
       "    <tr>\n",
       "      <th>bmi</th>\n",
       "      <td>0.109272</td>\n",
       "      <td>1.000000</td>\n",
       "      <td>0.012759</td>\n",
       "      <td>0.198341</td>\n",
       "    </tr>\n",
       "    <tr>\n",
       "      <th>children</th>\n",
       "      <td>0.042469</td>\n",
       "      <td>0.012759</td>\n",
       "      <td>1.000000</td>\n",
       "      <td>0.067998</td>\n",
       "    </tr>\n",
       "    <tr>\n",
       "      <th>charges</th>\n",
       "      <td>0.299008</td>\n",
       "      <td>0.198341</td>\n",
       "      <td>0.067998</td>\n",
       "      <td>1.000000</td>\n",
       "    </tr>\n",
       "  </tbody>\n",
       "</table>\n",
       "</div>"
      ],
      "text/plain": [
       "               age       bmi  children   charges\n",
       "age       1.000000  0.109272  0.042469  0.299008\n",
       "bmi       0.109272  1.000000  0.012759  0.198341\n",
       "children  0.042469  0.012759  1.000000  0.067998\n",
       "charges   0.299008  0.198341  0.067998  1.000000"
      ]
     },
     "execution_count": 89,
     "metadata": {},
     "output_type": "execute_result"
    }
   ],
   "source": [
    "data.corr()"
   ]
  },
  {
   "cell_type": "code",
   "execution_count": 90,
   "id": "399a9e2c",
   "metadata": {},
   "outputs": [
    {
     "data": {
      "text/html": [
       "<div>\n",
       "<style scoped>\n",
       "    .dataframe tbody tr th:only-of-type {\n",
       "        vertical-align: middle;\n",
       "    }\n",
       "\n",
       "    .dataframe tbody tr th {\n",
       "        vertical-align: top;\n",
       "    }\n",
       "\n",
       "    .dataframe thead th {\n",
       "        text-align: right;\n",
       "    }\n",
       "</style>\n",
       "<table border=\"1\" class=\"dataframe\">\n",
       "  <thead>\n",
       "    <tr style=\"text-align: right;\">\n",
       "      <th></th>\n",
       "      <th>age</th>\n",
       "      <th>bmi</th>\n",
       "      <th>children</th>\n",
       "      <th>charges</th>\n",
       "    </tr>\n",
       "  </thead>\n",
       "  <tbody>\n",
       "    <tr>\n",
       "      <th>age</th>\n",
       "      <td>1.00</td>\n",
       "      <td>0.11</td>\n",
       "      <td>0.03</td>\n",
       "      <td>0.54</td>\n",
       "    </tr>\n",
       "    <tr>\n",
       "      <th>bmi</th>\n",
       "      <td>0.11</td>\n",
       "      <td>1.00</td>\n",
       "      <td>0.01</td>\n",
       "      <td>0.14</td>\n",
       "    </tr>\n",
       "    <tr>\n",
       "      <th>children</th>\n",
       "      <td>0.03</td>\n",
       "      <td>0.01</td>\n",
       "      <td>1.00</td>\n",
       "      <td>0.12</td>\n",
       "    </tr>\n",
       "    <tr>\n",
       "      <th>charges</th>\n",
       "      <td>0.54</td>\n",
       "      <td>0.14</td>\n",
       "      <td>0.12</td>\n",
       "      <td>1.00</td>\n",
       "    </tr>\n",
       "  </tbody>\n",
       "</table>\n",
       "</div>"
      ],
      "text/plain": [
       "           age   bmi  children  charges\n",
       "age       1.00  0.11      0.03     0.54\n",
       "bmi       0.11  1.00      0.01     0.14\n",
       "children  0.03  0.01      1.00     0.12\n",
       "charges   0.54  0.14      0.12     1.00"
      ]
     },
     "execution_count": 90,
     "metadata": {},
     "output_type": "execute_result"
    }
   ],
   "source": [
    "matrix=numerical_variables_df.corr()\n",
    "matrix.round(2)"
   ]
  },
  {
   "cell_type": "code",
   "execution_count": 91,
   "id": "2f5db505",
   "metadata": {},
   "outputs": [
    {
     "data": {
      "text/plain": [
       "<AxesSubplot:>"
      ]
     },
     "execution_count": 91,
     "metadata": {},
     "output_type": "execute_result"
    },
    {
     "data": {
      "image/png": "[encoded data removed]",
      "text/plain": [
       "<Figure size 360x360 with 2 Axes>"
      ]
     },
     "metadata": {
      "needs_background": "light"
     },
     "output_type": "display_data"
    }
   ],
   "source": [
    "fig = plt.figure(figsize = (5,5))\n",
    "sns.heatmap(matrix.round(2), vmax=1, vmin=-1, cmap='BuPu',annot=True)"
   ]
  },
  {
   "cell_type": "markdown",
   "id": "338424fe",
   "metadata": {},
   "source": [
    "The variables, age, bmi and children have a weak positive correlation towards charges."
   ]
  },
  {
   "cell_type": "markdown",
   "id": "93b59eef",
   "metadata": {},
   "source": [
    "#### Linear Regression"
   ]
  },
  {
   "cell_type": "code",
   "execution_count": 92,
   "id": "79c2bded",
   "metadata": {},
   "outputs": [],
   "source": [
    "import statsmodels.api as sm"
   ]
  },
  {
   "cell_type": "code",
   "execution_count": 93,
   "id": "d1936264",
   "metadata": {},
   "outputs": [
    {
     "name": "stdout",
     "output_type": "stream",
     "text": [
      "                                 OLS Regression Results                                \n",
      "=======================================================================================\n",
      "Dep. Variable:                charges   R-squared (uncentered):                   0.596\n",
      "Model:                            OLS   Adj. R-squared (uncentered):              0.595\n",
      "Method:                 Least Squares   F-statistic:                              655.7\n",
      "Date:                Fri, 11 Mar 2022   Prob (F-statistic):                   6.52e-262\n",
      "Time:                        11:19:05   Log-Likelihood:                         -14400.\n",
      "No. Observations:                1338   AIC:                                  2.881e+04\n",
      "Df Residuals:                    1335   BIC:                                  2.882e+04\n",
      "Df Model:                           3                                                  \n",
      "Covariance Type:            nonrobust                                                  \n",
      "==============================================================================\n",
      "                 coef    std err          t      P>|t|      [0.025      0.975]\n",
      "------------------------------------------------------------------------------\n",
      "age          205.5096     20.605      9.974      0.000     165.088     245.931\n",
      "children     407.6827    257.331      1.584      0.113     -97.135     912.501\n",
      "bmi          162.5084     28.007      5.802      0.000     107.566     217.451\n",
      "==============================================================================\n",
      "Omnibus:                      369.789   Durbin-Watson:                   2.018\n",
      "Prob(Omnibus):                  0.000   Jarque-Bera (JB):              750.403\n",
      "Skew:                           1.648   Prob(JB):                    1.13e-163\n",
      "Kurtosis:                       4.610   Cond. No.                         42.2\n",
      "==============================================================================\n",
      "\n",
      "Notes:\n",
      "[1] R² is computed without centering (uncentered) since the model does not contain a constant.\n",
      "[2] Standard Errors assume that the covariance matrix of the errors is correctly specified.\n"
     ]
    }
   ],
   "source": [
    "predictors = data[['age','children','bmi']]\n",
    "response = data.charges\n",
    "\n",
    "mult_mod = sm.OLS(response, predictors)\n",
    "mult_res = mult_mod.fit()\n",
    "print(mult_res.summary())"
   ]
  },
  {
   "cell_type": "markdown",
   "id": "4974486e",
   "metadata": {},
   "source": [
    "R-squared and Adj. R-squared of 59.6 and 59.5 shows the predictors are significantly sufficient for prediction of charges."
   ]
  },
  {
   "cell_type": "code",
   "execution_count": null,
   "id": "ff9aef3c",
   "metadata": {},
   "outputs": [],
   "source": []
  },
  {
   "cell_type": "code",
   "execution_count": null,
   "id": "8940cba6",
   "metadata": {},
   "outputs": [],
   "source": []
  },
  {
   "cell_type": "markdown",
   "id": "8dd42faa",
   "metadata": {},
   "source": [
    "#### Machine Learning"
   ]
  },
  {
   "cell_type": "code",
   "execution_count": 94,
   "id": "c6873b92",
   "metadata": {},
   "outputs": [],
   "source": [
    "# Import necessary libraries\n",
    "import sklearn\n",
    "from sklearn.linear_model import LinearRegression, Ridge, Lasso\n",
    "from sklearn.neighbors import KNeighborsRegressor\n",
    "from sklearn.ensemble import RandomForestRegressor, AdaBoostRegressor, BaggingRegressor, GradientBoostingRegressor\n",
    "from sklearn.tree import DecisionTreeRegressor\n",
    "import xgboost\n",
    "from xgboost import XGBRFRegressor\n",
    "\n",
    "from sklearn. model_selection import train_test_split\n",
    "from sklearn.preprocessing import LabelEncoder"
   ]
  },
  {
   "cell_type": "code",
   "execution_count": 95,
   "id": "1f47e191",
   "metadata": {},
   "outputs": [
    {
     "name": "stdout",
     "output_type": "stream",
     "text": [
      "<class 'pandas.core.frame.DataFrame'>\n",
      "RangeIndex: 1338 entries, 0 to 1337\n",
      "Data columns (total 7 columns):\n",
      " #   Column    Non-Null Count  Dtype  \n",
      "---  ------    --------------  -----  \n",
      " 0   age       1338 non-null   int64  \n",
      " 1   sex       1338 non-null   int32  \n",
      " 2   bmi       1338 non-null   float64\n",
      " 3   children  1338 non-null   int64  \n",
      " 4   smoker    1338 non-null   int32  \n",
      " 5   region    1338 non-null   int32  \n",
      " 6   charges   1338 non-null   float64\n",
      "dtypes: float64(2), int32(3), int64(2)\n",
      "memory usage: 57.6 KB\n",
      "None\n"
     ]
    }
   ],
   "source": [
    "#Label Encoding for object to numeric conversion\n",
    "from sklearn.preprocessing import LabelEncoder\n",
    "def encode():\n",
    "    le = LabelEncoder()\n",
    "\n",
    "    for col in categorical_variables_df:\n",
    "        data[col] = le.fit_transform(data[col].astype(str))\n",
    "    print (data.info())\n",
    "    \n",
    "encode()"
   ]
  },
  {
   "cell_type": "code",
   "execution_count": 96,
   "id": "e3605d31",
   "metadata": {},
   "outputs": [
    {
     "data": {
      "text/html": [
       "<div>\n",
       "<style scoped>\n",
       "    .dataframe tbody tr th:only-of-type {\n",
       "        vertical-align: middle;\n",
       "    }\n",
       "\n",
       "    .dataframe tbody tr th {\n",
       "        vertical-align: top;\n",
       "    }\n",
       "\n",
       "    .dataframe thead th {\n",
       "        text-align: right;\n",
       "    }\n",
       "</style>\n",
       "<table border=\"1\" class=\"dataframe\">\n",
       "  <thead>\n",
       "    <tr style=\"text-align: right;\">\n",
       "      <th></th>\n",
       "      <th>age</th>\n",
       "      <th>sex</th>\n",
       "      <th>bmi</th>\n",
       "      <th>children</th>\n",
       "      <th>smoker</th>\n",
       "      <th>region</th>\n",
       "      <th>charges</th>\n",
       "    </tr>\n",
       "  </thead>\n",
       "  <tbody>\n",
       "    <tr>\n",
       "      <th>0</th>\n",
       "      <td>19</td>\n",
       "      <td>0</td>\n",
       "      <td>27.900</td>\n",
       "      <td>0</td>\n",
       "      <td>1</td>\n",
       "      <td>3</td>\n",
       "      <td>16884.92400</td>\n",
       "    </tr>\n",
       "    <tr>\n",
       "      <th>1</th>\n",
       "      <td>18</td>\n",
       "      <td>1</td>\n",
       "      <td>33.770</td>\n",
       "      <td>1</td>\n",
       "      <td>0</td>\n",
       "      <td>2</td>\n",
       "      <td>1725.55230</td>\n",
       "    </tr>\n",
       "    <tr>\n",
       "      <th>2</th>\n",
       "      <td>28</td>\n",
       "      <td>1</td>\n",
       "      <td>33.000</td>\n",
       "      <td>3</td>\n",
       "      <td>0</td>\n",
       "      <td>2</td>\n",
       "      <td>4449.46200</td>\n",
       "    </tr>\n",
       "    <tr>\n",
       "      <th>3</th>\n",
       "      <td>33</td>\n",
       "      <td>1</td>\n",
       "      <td>22.705</td>\n",
       "      <td>0</td>\n",
       "      <td>0</td>\n",
       "      <td>1</td>\n",
       "      <td>21984.47061</td>\n",
       "    </tr>\n",
       "    <tr>\n",
       "      <th>4</th>\n",
       "      <td>32</td>\n",
       "      <td>1</td>\n",
       "      <td>28.880</td>\n",
       "      <td>0</td>\n",
       "      <td>0</td>\n",
       "      <td>1</td>\n",
       "      <td>3866.85520</td>\n",
       "    </tr>\n",
       "  </tbody>\n",
       "</table>\n",
       "</div>"
      ],
      "text/plain": [
       "   age  sex     bmi  children  smoker  region      charges\n",
       "0   19    0  27.900         0       1       3  16884.92400\n",
       "1   18    1  33.770         1       0       2   1725.55230\n",
       "2   28    1  33.000         3       0       2   4449.46200\n",
       "3   33    1  22.705         0       0       1  21984.47061\n",
       "4   32    1  28.880         0       0       1   3866.85520"
      ]
     },
     "execution_count": 96,
     "metadata": {},
     "output_type": "execute_result"
    }
   ],
   "source": [
    "data.head()"
   ]
  },
  {
   "cell_type": "code",
   "execution_count": null,
   "id": "59531689",
   "metadata": {},
   "outputs": [],
   "source": []
  },
  {
   "cell_type": "markdown",
   "id": "b2366ccd",
   "metadata": {},
   "source": [
    "### Split data"
   ]
  },
  {
   "cell_type": "code",
   "execution_count": 97,
   "id": "7e3c2bc0",
   "metadata": {},
   "outputs": [],
   "source": [
    "X = data.drop(['charges'], 1)\n",
    "y = data.charges"
   ]
  },
  {
   "cell_type": "code",
   "execution_count": 98,
   "id": "4de68d7c",
   "metadata": {},
   "outputs": [
    {
     "data": {
      "text/plain": [
       "((1070, 6), (1070,), (268, 6), (268,))"
      ]
     },
     "execution_count": 98,
     "metadata": {},
     "output_type": "execute_result"
    }
   ],
   "source": [
    "X_train, X_test, y_train, y_test = train_test_split(X, y, test_size=0.2, random_state=42)\n",
    "\n",
    "X_train.shape, y_train.shape, X_test.shape, y_test.shape"
   ]
  },
  {
   "cell_type": "code",
   "execution_count": null,
   "id": "6a7f0a49",
   "metadata": {},
   "outputs": [],
   "source": []
  },
  {
   "cell_type": "markdown",
   "id": "d5d927de",
   "metadata": {},
   "source": [
    "#### Training models"
   ]
  },
  {
   "cell_type": "code",
   "execution_count": 99,
   "id": "5d6b030d",
   "metadata": {},
   "outputs": [],
   "source": [
    "from sklearn.metrics import mean_squared_error\n",
    "import math\n",
    "from sklearn.metrics import mean_squared_error, mean_squared_log_error, mean_absolute_error"
   ]
  },
  {
   "cell_type": "markdown",
   "id": "21fc66d8",
   "metadata": {},
   "source": [
    "linear regression"
   ]
  },
  {
   "cell_type": "code",
   "execution_count": 100,
   "id": "5b94b0db",
   "metadata": {},
   "outputs": [
    {
     "name": "stdout",
     "output_type": "stream",
     "text": [
      "R-squared of the training: 0.742\n",
      "R-squared of the test: 0.783\n"
     ]
    }
   ],
   "source": [
    "LinReg = LinearRegression().fit(X_train, y_train)\n",
    "print('R-squared of the training: {:.3f}'.format(LinReg.score(X_train, y_train)))\n",
    "print('R-squared of the test: {:.3f}'.format(LinReg.score(X_test, y_test)))"
   ]
  },
  {
   "cell_type": "code",
   "execution_count": 101,
   "id": "f601e5da",
   "metadata": {},
   "outputs": [
    {
     "name": "stdout",
     "output_type": "stream",
     "text": [
      "RMSE: 5799.587\n",
      "MSE: 33635210.431\n",
      "MAE: 4186.509\n",
      "MAPE: 47.093%\n"
     ]
    }
   ],
   "source": [
    "charges_predicted = LinReg.predict(X_test)\n",
    "\n",
    "RMSE = np.sqrt(mean_squared_error(charges_predicted, y_test))\n",
    "MSE = mean_squared_error(charges_predicted, y_test)\n",
    "MAE = mean_absolute_error(charges_predicted, y_test)\n",
    "difference = np.abs(y_test-charges_predicted)\n",
    "mape = np.mean(difference/y_test)*100\n",
    "\n",
    "\n",
    "\n",
    "print('RMSE: {:.3f}'.format(RMSE))\n",
    "print('MSE: {:.3f}'.format(MSE))\n",
    "print('MAE: {:.3f}'.format(MAE))\n",
    "print('MAPE: {:.3f}%'.format(mape))"
   ]
  },
  {
   "cell_type": "code",
   "execution_count": null,
   "id": "f98fa10c",
   "metadata": {},
   "outputs": [],
   "source": []
  },
  {
   "cell_type": "markdown",
   "id": "94a433a3",
   "metadata": {},
   "source": [
    "Ridge regression"
   ]
  },
  {
   "cell_type": "code",
   "execution_count": 102,
   "id": "1de196d0",
   "metadata": {},
   "outputs": [
    {
     "name": "stdout",
     "output_type": "stream",
     "text": [
      "R-squared of the training: 0.742\n",
      "R-squared of the test: 0.783\n"
     ]
    }
   ],
   "source": [
    "RidgeReg = Ridge().fit(X_train, y_train)\n",
    "print('R-squared of the training: {:.3f}'.format(RidgeReg.score(X_train, y_train)))\n",
    "print('R-squared of the test: {:.3f}'.format(RidgeReg.score(X_test, y_test)))"
   ]
  },
  {
   "cell_type": "code",
   "execution_count": 103,
   "id": "2f75b6f6",
   "metadata": {},
   "outputs": [
    {
     "name": "stdout",
     "output_type": "stream",
     "text": [
      "RMSE: 5803.085\n",
      "MSE: 33675792.154\n",
      "MAE: 4198.141\n",
      "MAPE: 47.320\n"
     ]
    }
   ],
   "source": [
    "charges_predicted = RidgeReg.predict(X_test)\n",
    "\n",
    "RMSE = np.sqrt(mean_squared_error(charges_predicted, y_test))\n",
    "MSE = mean_squared_error(charges_predicted, y_test)\n",
    "MAE = mean_absolute_error(charges_predicted, y_test)\n",
    "difference = np.abs(y_test-charges_predicted)\n",
    "mape = np.mean(difference/y_test)*100\n",
    "\n",
    "\n",
    "\n",
    "print('RMSE: {:.3f}'.format(RMSE))\n",
    "print('MSE: {:.3f}'.format(MSE))\n",
    "print('MAE: {:.3f}'.format(MAE))\n",
    "print('MAPE: {:.3f}'.format(mape))"
   ]
  },
  {
   "cell_type": "code",
   "execution_count": null,
   "id": "8efe0907",
   "metadata": {},
   "outputs": [],
   "source": []
  },
  {
   "cell_type": "markdown",
   "id": "91db880a",
   "metadata": {},
   "source": [
    "Lasso Regression"
   ]
  },
  {
   "cell_type": "code",
   "execution_count": 104,
   "id": "22a41815",
   "metadata": {},
   "outputs": [
    {
     "name": "stdout",
     "output_type": "stream",
     "text": [
      "R-squared of the training: 0.742\n",
      "R-squared of the test: 0.783\n"
     ]
    }
   ],
   "source": [
    "LassoReg = Lasso().fit(X_train, y_train)\n",
    "print('R-squared of the training: {:.3f}'.format(LassoReg.score(X_train, y_train)))\n",
    "print('R-squared of the test: {:.3f}'.format(LassoReg.score(X_test, y_test)))"
   ]
  },
  {
   "cell_type": "code",
   "execution_count": 105,
   "id": "f2123f71",
   "metadata": {},
   "outputs": [
    {
     "name": "stdout",
     "output_type": "stream",
     "text": [
      "RMSE: 5799.943\n",
      "MSE: 33639339.306\n",
      "MAE: 4187.245\n",
      "MAPE: 47.114\n"
     ]
    }
   ],
   "source": [
    "charges_predicted = LassoReg.predict(X_test)\n",
    "\n",
    "RMSE = np.sqrt(mean_squared_error(charges_predicted, y_test))\n",
    "MSE = mean_squared_error(charges_predicted, y_test)\n",
    "MAE = mean_absolute_error(charges_predicted, y_test)\n",
    "difference = np.abs(y_test-charges_predicted)\n",
    "mape = np.mean(difference/y_test)*100\n",
    "\n",
    "print('RMSE: {:.3f}'.format(RMSE))\n",
    "print('MSE: {:.3f}'.format(MSE))\n",
    "print('MAE: {:.3f}'.format(MAE))\n",
    "print('MAPE: {:.3f}'.format(mape))"
   ]
  },
  {
   "cell_type": "code",
   "execution_count": null,
   "id": "a7b8b7c7",
   "metadata": {},
   "outputs": [],
   "source": []
  },
  {
   "cell_type": "markdown",
   "id": "aebf092b",
   "metadata": {},
   "source": [
    "Decision Tree Regression"
   ]
  },
  {
   "cell_type": "code",
   "execution_count": 106,
   "id": "1477ca4b",
   "metadata": {},
   "outputs": [
    {
     "name": "stdout",
     "output_type": "stream",
     "text": [
      "R-squared of the training: 0.969\n",
      "R-squared of the test: 0.746\n"
     ]
    }
   ],
   "source": [
    "DTReg = DecisionTreeRegressor( criterion='mse', max_depth=10, random_state=100).fit(X_train, y_train)\n",
    "print('R-squared of the training: {:.3f}'.format(DTReg.score(X_train, y_train)))\n",
    "print('R-squared of the test: {:.3f}'.format(DTReg.score(X_test, y_test)))"
   ]
  },
  {
   "cell_type": "code",
   "execution_count": 107,
   "id": "21dafbea",
   "metadata": {},
   "outputs": [
    {
     "name": "stdout",
     "output_type": "stream",
     "text": [
      "RMSE: 6277.322\n",
      "MSE: 39404773.425\n",
      "MAE: 3044.175\n",
      "MAPE: 37.267\n"
     ]
    }
   ],
   "source": [
    "charges_predicted = DTReg.predict(X_test)\n",
    "\n",
    "RMSE = np.sqrt(mean_squared_error(charges_predicted, y_test))\n",
    "MSE = mean_squared_error(charges_predicted, y_test)\n",
    "MAE = mean_absolute_error(charges_predicted, y_test)\n",
    "difference = np.abs(y_test-charges_predicted)\n",
    "mape = np.mean(difference/y_test)*100\n",
    "\n",
    "\n",
    "print('RMSE: {:.3f}'.format(RMSE))\n",
    "print('MSE: {:.3f}'.format(MSE))\n",
    "print('MAE: {:.3f}'.format(MAE))\n",
    "print('MAPE: {:.3f}'.format(mape))"
   ]
  },
  {
   "cell_type": "code",
   "execution_count": null,
   "id": "fd2e6919",
   "metadata": {},
   "outputs": [],
   "source": []
  },
  {
   "cell_type": "markdown",
   "id": "40a4bcdd",
   "metadata": {},
   "source": [
    "Random Forest Regression"
   ]
  },
  {
   "cell_type": "code",
   "execution_count": 108,
   "id": "0a431505",
   "metadata": {},
   "outputs": [
    {
     "name": "stdout",
     "output_type": "stream",
     "text": [
      "R-squared of the training: 0.976\n",
      "R-squared of the test: 0.862\n"
     ]
    }
   ],
   "source": [
    "RFReg = RandomForestRegressor(n_estimators=100, max_depth=20, random_state=100).fit(X_train, y_train)\n",
    "print('R-squared of the training: {:.3f}'.format(RFReg.score(X_train, y_train)))\n",
    "print('R-squared of the test: {:.3f}'.format(RFReg.score(X_test, y_test)))"
   ]
  },
  {
   "cell_type": "code",
   "execution_count": 109,
   "id": "259eb4c9",
   "metadata": {},
   "outputs": [
    {
     "name": "stdout",
     "output_type": "stream",
     "text": [
      "RMSE: 4621.073\n",
      "MSE: 21354320.148\n",
      "MAE: 2486.305\n",
      "MAPE: 28.402\n"
     ]
    }
   ],
   "source": [
    "charges_predicted = RFReg.predict(X_test)\n",
    "\n",
    "RMSE = np.sqrt(mean_squared_error(charges_predicted, y_test))\n",
    "MSE = mean_squared_error(charges_predicted, y_test)\n",
    "MAE = mean_absolute_error(charges_predicted, y_test)\n",
    "difference = np.abs(y_test-charges_predicted)\n",
    "mape = np.mean(difference/y_test)*100\n",
    "\n",
    "\n",
    "print('RMSE: {:.3f}'.format(RMSE))\n",
    "print('MSE: {:.3f}'.format(MSE))\n",
    "print('MAE: {:.3f}'.format(MAE))\n",
    "print('MAPE: {:.3f}'.format(mape))\n"
   ]
  },
  {
   "cell_type": "code",
   "execution_count": null,
   "id": "c66185bf",
   "metadata": {},
   "outputs": [],
   "source": []
  },
  {
   "cell_type": "markdown",
   "id": "cbd81f79",
   "metadata": {},
   "source": [
    "Bagging Regression"
   ]
  },
  {
   "cell_type": "code",
   "execution_count": 110,
   "id": "633e0b67",
   "metadata": {},
   "outputs": [
    {
     "name": "stdout",
     "output_type": "stream",
     "text": [
      "R-squared of the training: 0.976\n",
      "R-squared of the test: 0.862\n"
     ]
    }
   ],
   "source": [
    "BReg = BaggingRegressor(base_estimator=None, n_estimators=100,max_features=1.0,random_state=100).fit(X_train, y_train)\n",
    "print('R-squared of the training: {:.3f}'.format(BReg.score(X_train, y_train)))\n",
    "print('R-squared of the test: {:.3f}'.format(BReg.score(X_test, y_test)))"
   ]
  },
  {
   "cell_type": "code",
   "execution_count": 111,
   "id": "e0390396",
   "metadata": {},
   "outputs": [
    {
     "name": "stdout",
     "output_type": "stream",
     "text": [
      "RMSE: 4627.954\n",
      "MSE: 21417954.032\n",
      "MAE: 2469.659\n",
      "MAPE: 27.988\n"
     ]
    }
   ],
   "source": [
    "charges_predicted = BReg.predict(X_test)\n",
    "\n",
    "RMSE = np.sqrt(mean_squared_error(charges_predicted, y_test))\n",
    "MSE = mean_squared_error(charges_predicted, y_test)\n",
    "MAE = mean_absolute_error(charges_predicted, y_test)\n",
    "difference = np.abs(y_test-charges_predicted)\n",
    "mape = np.mean(difference/y_test)*100\n",
    "\n",
    "\n",
    "print('RMSE: {:.3f}'.format(RMSE))\n",
    "print('MSE: {:.3f}'.format(MSE))\n",
    "print('MAE: {:.3f}'.format(MAE))\n",
    "print('MAPE: {:.3f}'.format(mape))"
   ]
  },
  {
   "cell_type": "code",
   "execution_count": null,
   "id": "3cad57eb",
   "metadata": {},
   "outputs": [],
   "source": []
  },
  {
   "cell_type": "markdown",
   "id": "fd71dc1f",
   "metadata": {},
   "source": [
    "Adaboost regression"
   ]
  },
  {
   "cell_type": "code",
   "execution_count": 112,
   "id": "0659b763",
   "metadata": {},
   "outputs": [
    {
     "name": "stdout",
     "output_type": "stream",
     "text": [
      "R-squared of the training: 0.827\n",
      "R-squared of the test: 0.826\n"
     ]
    }
   ],
   "source": [
    "AReg = AdaBoostRegressor(base_estimator=None,n_estimators=500,learning_rate=1.0,loss='linear',random_state=100,).fit(X_train, y_train)\n",
    "print('R-squared of the training: {:.3f}'.format(AReg.score(X_train, y_train)))\n",
    "print('R-squared of the test: {:.3f}'.format(AReg.score(X_test, y_test)))"
   ]
  },
  {
   "cell_type": "code",
   "execution_count": 113,
   "id": "c4d71904",
   "metadata": {},
   "outputs": [
    {
     "name": "stdout",
     "output_type": "stream",
     "text": [
      "RMSE: 5198.046\n",
      "MSE: 27019686.542\n",
      "MAE: 4192.180\n",
      "MAPE: 72.991\n"
     ]
    }
   ],
   "source": [
    "charges_predicted = AReg.predict(X_test)\n",
    "\n",
    "RMSE = np.sqrt(mean_squared_error(charges_predicted, y_test))\n",
    "MSE = mean_squared_error(charges_predicted, y_test)\n",
    "MAE = mean_absolute_error(charges_predicted, y_test)\n",
    "difference = np.abs(y_test-charges_predicted)\n",
    "mape = np.mean(difference/y_test)*100\n",
    "\n",
    "\n",
    "print('RMSE: {:.3f}'.format(RMSE))\n",
    "print('MSE: {:.3f}'.format(MSE))\n",
    "print('MAE: {:.3f}'.format(MAE))\n",
    "print('MAPE: {:.3f}'.format(mape))"
   ]
  },
  {
   "cell_type": "code",
   "execution_count": null,
   "id": "67125ecc",
   "metadata": {},
   "outputs": [],
   "source": []
  },
  {
   "cell_type": "markdown",
   "id": "dc42ffda",
   "metadata": {},
   "source": [
    "Gradient Boost Regression"
   ]
  },
  {
   "cell_type": "code",
   "execution_count": 114,
   "id": "cac32fdd",
   "metadata": {},
   "outputs": [
    {
     "name": "stdout",
     "output_type": "stream",
     "text": [
      "R-squared of the training: 0.998\n",
      "R-squared of the test: 0.728\n"
     ]
    }
   ],
   "source": [
    "GBReg = GradientBoostingRegressor(n_estimators=1000, max_depth=20, random_state=1000).fit(X_train, y_train)\n",
    "print('R-squared of the training: {:.3f}'.format(GBReg.score(X_train, y_train)))\n",
    "print('R-squared of the test: {:.3f}'.format(GBReg.score(X_test, y_test)))"
   ]
  },
  {
   "cell_type": "code",
   "execution_count": 115,
   "id": "60e7c85a",
   "metadata": {},
   "outputs": [
    {
     "name": "stdout",
     "output_type": "stream",
     "text": [
      "RMSE: 6497.403\n",
      "MSE: 42216250.322\n",
      "MAE: 2990.356\n",
      "MAPE: 32.676\n"
     ]
    }
   ],
   "source": [
    "charges_predicted = GBReg.predict(X_test)\n",
    "\n",
    "RMSE = np.sqrt(mean_squared_error(charges_predicted, y_test))\n",
    "MSE = mean_squared_error(charges_predicted, y_test)\n",
    "MAE = mean_absolute_error(charges_predicted, y_test)\n",
    "difference = np.abs(y_test-charges_predicted)\n",
    "mape = np.mean(difference/y_test)*100\n",
    "\n",
    "\n",
    "print('RMSE: {:.3f}'.format(RMSE))\n",
    "print('MSE: {:.3f}'.format(MSE))\n",
    "print('MAE: {:.3f}'.format(MAE))\n",
    "print('MAPE: {:.3f}'.format(mape))"
   ]
  },
  {
   "cell_type": "code",
   "execution_count": null,
   "id": "83b65052",
   "metadata": {},
   "outputs": [],
   "source": []
  },
  {
   "cell_type": "markdown",
   "id": "90eb1486",
   "metadata": {},
   "source": [
    "XGB Regression"
   ]
  },
  {
   "cell_type": "code",
   "execution_count": 116,
   "id": "c4ee353b",
   "metadata": {},
   "outputs": [
    {
     "name": "stdout",
     "output_type": "stream",
     "text": [
      "R-squared of the training: 0.902\n",
      "R-squared of the test: 0.876\n"
     ]
    }
   ],
   "source": [
    "XGBReg = XGBRFRegressor().fit(X_train, y_train)\n",
    "print('R-squared of the training: {:.3f}'.format(XGBReg.score(X_train, y_train)))\n",
    "print('R-squared of the test: {:.3f}'.format(XGBReg.score(X_test, y_test)))"
   ]
  },
  {
   "cell_type": "code",
   "execution_count": 117,
   "id": "c5e75e76",
   "metadata": {},
   "outputs": [
    {
     "name": "stdout",
     "output_type": "stream",
     "text": [
      "RMSE: 4385.602\n",
      "MSE: 19233507.759\n",
      "MAE: 2484.171\n",
      "MAPE: 31.310\n"
     ]
    }
   ],
   "source": [
    "charges_predicted = XGBReg.predict(X_test)\n",
    "\n",
    "RMSE = np.sqrt(mean_squared_error(charges_predicted, y_test))\n",
    "MSE = mean_squared_error(charges_predicted, y_test)\n",
    "MAE = mean_absolute_error(charges_predicted, y_test)\n",
    "difference = np.abs(y_test-charges_predicted)\n",
    "mape = np.mean(difference/y_test)*100\n",
    "\n",
    "\n",
    "print('RMSE: {:.3f}'.format(RMSE))\n",
    "print('MSE: {:.3f}'.format(MSE))\n",
    "print('MAE: {:.3f}'.format(MAE))\n",
    "print('MAPE: {:.3f}'.format(mape))"
   ]
  },
  {
   "cell_type": "code",
   "execution_count": null,
   "id": "4a4af970",
   "metadata": {},
   "outputs": [],
   "source": []
  },
  {
   "cell_type": "markdown",
   "id": "8896ccc1",
   "metadata": {},
   "source": [
    "### Tensorflow"
   ]
  },
  {
   "cell_type": "code",
   "execution_count": 118,
   "id": "73afcf2e",
   "metadata": {},
   "outputs": [],
   "source": [
    "import tensorflow as tf"
   ]
  },
  {
   "cell_type": "code",
   "execution_count": 119,
   "id": "5a978fbc",
   "metadata": {},
   "outputs": [
    {
     "name": "stdout",
     "output_type": "stream",
     "text": [
      "Epoch 1/100\n",
      "34/34 [==============================] - 2s 6ms/step - loss: 8638.9453 - mae: 8638.9453\n",
      "Epoch 2/100\n",
      "34/34 [==============================] - 0s 6ms/step - loss: 7889.0103 - mae: 7889.0103\n",
      "Epoch 3/100\n",
      "34/34 [==============================] - 0s 4ms/step - loss: 7535.4185 - mae: 7535.4185\n",
      "Epoch 4/100\n",
      "34/34 [==============================] - 0s 6ms/step - loss: 7741.7231 - mae: 7741.7231\n",
      "Epoch 5/100\n",
      "34/34 [==============================] - 0s 8ms/step - loss: 7719.7183 - mae: 7719.7183\n",
      "Epoch 6/100\n",
      "34/34 [==============================] - 0s 6ms/step - loss: 7680.7900 - mae: 7680.7900\n",
      "Epoch 7/100\n",
      "34/34 [==============================] - 0s 5ms/step - loss: 7577.4663 - mae: 7577.4663\n",
      "Epoch 8/100\n",
      "34/34 [==============================] - 0s 5ms/step - loss: 7838.6870 - mae: 7838.6870\n",
      "Epoch 9/100\n",
      "34/34 [==============================] - 0s 5ms/step - loss: 7592.2783 - mae: 7592.2783\n",
      "Epoch 10/100\n",
      "34/34 [==============================] - 0s 5ms/step - loss: 7777.2466 - mae: 7777.2466\n",
      "Epoch 11/100\n",
      "34/34 [==============================] - 0s 5ms/step - loss: 7538.2417 - mae: 7538.2417\n",
      "Epoch 12/100\n",
      "34/34 [==============================] - 0s 6ms/step - loss: 7539.0093 - mae: 7539.0093\n",
      "Epoch 13/100\n",
      "34/34 [==============================] - 0s 6ms/step - loss: 7778.0181 - mae: 7778.0181\n",
      "Epoch 14/100\n",
      "34/34 [==============================] - 0s 6ms/step - loss: 7882.4121 - mae: 7882.4121\n",
      "Epoch 15/100\n",
      "34/34 [==============================] - 0s 6ms/step - loss: 7556.0293 - mae: 7556.0293\n",
      "Epoch 16/100\n",
      "34/34 [==============================] - 0s 6ms/step - loss: 7790.0508 - mae: 7790.0508\n",
      "Epoch 17/100\n",
      "34/34 [==============================] - 0s 7ms/step - loss: 7561.1260 - mae: 7561.1260\n",
      "Epoch 18/100\n",
      "34/34 [==============================] - 0s 7ms/step - loss: 7715.1045 - mae: 7715.1045\n",
      "Epoch 19/100\n",
      "34/34 [==============================] - 0s 6ms/step - loss: 7596.5820 - mae: 7596.5820\n",
      "Epoch 20/100\n",
      "34/34 [==============================] - 0s 8ms/step - loss: 7973.5703 - mae: 7973.5703\n",
      "Epoch 21/100\n",
      "34/34 [==============================] - 0s 7ms/step - loss: 7504.3896 - mae: 7504.3896\n",
      "Epoch 22/100\n",
      "34/34 [==============================] - 0s 6ms/step - loss: 7853.5420 - mae: 7853.5420\n",
      "Epoch 23/100\n",
      "34/34 [==============================] - 0s 6ms/step - loss: 7697.3584 - mae: 7697.3584\n",
      "Epoch 24/100\n",
      "34/34 [==============================] - 0s 5ms/step - loss: 7612.2739 - mae: 7612.2739\n",
      "Epoch 25/100\n",
      "34/34 [==============================] - 0s 4ms/step - loss: 7552.6836 - mae: 7552.6836\n",
      "Epoch 26/100\n",
      "34/34 [==============================] - 0s 6ms/step - loss: 7701.9302 - mae: 7701.9302\n",
      "Epoch 27/100\n",
      "34/34 [==============================] - 0s 6ms/step - loss: 7554.4531 - mae: 7554.4531\n",
      "Epoch 28/100\n",
      "34/34 [==============================] - 0s 4ms/step - loss: 7481.9951 - mae: 7481.9951\n",
      "Epoch 29/100\n",
      "34/34 [==============================] - 0s 7ms/step - loss: 7701.0596 - mae: 7701.0596\n",
      "Epoch 30/100\n",
      "34/34 [==============================] - 0s 7ms/step - loss: 7604.8501 - mae: 7604.8501\n",
      "Epoch 31/100\n",
      "34/34 [==============================] - 0s 6ms/step - loss: 7735.9829 - mae: 7735.9829\n",
      "Epoch 32/100\n",
      "34/34 [==============================] - 0s 5ms/step - loss: 7616.6367 - mae: 7616.6367\n",
      "Epoch 33/100\n",
      "34/34 [==============================] - 0s 5ms/step - loss: 7560.5410 - mae: 7560.5410\n",
      "Epoch 34/100\n",
      "34/34 [==============================] - 0s 5ms/step - loss: 7685.6787 - mae: 7685.6787\n",
      "Epoch 35/100\n",
      "34/34 [==============================] - 0s 7ms/step - loss: 7626.2524 - mae: 7626.2524\n",
      "Epoch 36/100\n",
      "34/34 [==============================] - 0s 4ms/step - loss: 7428.7510 - mae: 7428.7510\n",
      "Epoch 37/100\n",
      "34/34 [==============================] - 0s 6ms/step - loss: 7694.5347 - mae: 7694.5347\n",
      "Epoch 38/100\n",
      "34/34 [==============================] - 0s 7ms/step - loss: 7553.7744 - mae: 7553.7744\n",
      "Epoch 39/100\n",
      "34/34 [==============================] - 0s 5ms/step - loss: 7649.6211 - mae: 7649.6211\n",
      "Epoch 40/100\n",
      "34/34 [==============================] - 0s 4ms/step - loss: 7380.5630 - mae: 7380.5630\n",
      "Epoch 41/100\n",
      "34/34 [==============================] - 0s 6ms/step - loss: 7724.5161 - mae: 7724.5161\n",
      "Epoch 42/100\n",
      "34/34 [==============================] - 0s 6ms/step - loss: 7536.8145 - mae: 7536.8145\n",
      "Epoch 43/100\n",
      "34/34 [==============================] - 0s 5ms/step - loss: 7917.4326 - mae: 7917.4326\n",
      "Epoch 44/100\n",
      "34/34 [==============================] - 0s 5ms/step - loss: 7617.3472 - mae: 7617.3472\n",
      "Epoch 45/100\n",
      "34/34 [==============================] - 0s 5ms/step - loss: 7600.7134 - mae: 7600.7134\n",
      "Epoch 46/100\n",
      "34/34 [==============================] - 0s 6ms/step - loss: 7486.9048 - mae: 7486.9048\n",
      "Epoch 47/100\n",
      "34/34 [==============================] - 0s 5ms/step - loss: 7659.8926 - mae: 7659.8926\n",
      "Epoch 48/100\n",
      "34/34 [==============================] - 0s 5ms/step - loss: 7525.1289 - mae: 7525.1289\n",
      "Epoch 49/100\n",
      "34/34 [==============================] - 0s 5ms/step - loss: 7650.6631 - mae: 7650.6631\n",
      "Epoch 50/100\n",
      "34/34 [==============================] - 0s 5ms/step - loss: 7564.9585 - mae: 7564.9585\n",
      "Epoch 51/100\n",
      "34/34 [==============================] - 0s 6ms/step - loss: 7523.1055 - mae: 7523.1055\n",
      "Epoch 52/100\n",
      "34/34 [==============================] - 0s 4ms/step - loss: 7629.5386 - mae: 7629.5386\n",
      "Epoch 53/100\n",
      "34/34 [==============================] - 0s 5ms/step - loss: 7572.8643 - mae: 7572.8643\n",
      "Epoch 54/100\n",
      "34/34 [==============================] - 0s 5ms/step - loss: 7278.0195 - mae: 7278.0195\n",
      "Epoch 55/100\n",
      "34/34 [==============================] - 0s 5ms/step - loss: 7464.9971 - mae: 7464.9971\n",
      "Epoch 56/100\n",
      "34/34 [==============================] - 0s 4ms/step - loss: 7516.8823 - mae: 7516.8823\n",
      "Epoch 57/100\n",
      "34/34 [==============================] - 0s 5ms/step - loss: 7609.9014 - mae: 7609.9014\n",
      "Epoch 58/100\n",
      "34/34 [==============================] - 0s 6ms/step - loss: 7683.6479 - mae: 7683.6479\n",
      "Epoch 59/100\n",
      "34/34 [==============================] - 0s 5ms/step - loss: 7598.0737 - mae: 7598.0737\n",
      "Epoch 60/100\n",
      "34/34 [==============================] - 0s 5ms/step - loss: 7696.9634 - mae: 7696.9634\n",
      "Epoch 61/100\n",
      "34/34 [==============================] - 0s 5ms/step - loss: 7638.5381 - mae: 7638.5381\n",
      "Epoch 62/100\n",
      "34/34 [==============================] - 0s 5ms/step - loss: 7333.3389 - mae: 7333.3389\n",
      "Epoch 63/100\n",
      "34/34 [==============================] - 0s 6ms/step - loss: 7554.4985 - mae: 7554.4985\n",
      "Epoch 64/100\n",
      "34/34 [==============================] - 0s 6ms/step - loss: 7523.4004 - mae: 7523.4004\n",
      "Epoch 65/100\n",
      "34/34 [==============================] - 0s 6ms/step - loss: 7570.5684 - mae: 7570.5684\n",
      "Epoch 66/100\n",
      "34/34 [==============================] - 0s 6ms/step - loss: 7562.9209 - mae: 7562.9209\n",
      "Epoch 67/100\n",
      "34/34 [==============================] - 0s 7ms/step - loss: 7533.6694 - mae: 7533.6694\n",
      "Epoch 68/100\n",
      "34/34 [==============================] - 0s 5ms/step - loss: 7726.6421 - mae: 7726.6421\n",
      "Epoch 69/100\n",
      "34/34 [==============================] - 0s 6ms/step - loss: 7551.8560 - mae: 7551.8560\n",
      "Epoch 70/100\n",
      "34/34 [==============================] - 0s 5ms/step - loss: 7737.9839 - mae: 7737.9839\n",
      "Epoch 71/100\n",
      "34/34 [==============================] - 0s 6ms/step - loss: 7423.5264 - mae: 7423.5264\n",
      "Epoch 72/100\n",
      "34/34 [==============================] - 0s 4ms/step - loss: 7320.5693 - mae: 7320.5693\n",
      "Epoch 73/100\n",
      "34/34 [==============================] - 0s 6ms/step - loss: 7663.6133 - mae: 7663.6133\n",
      "Epoch 74/100\n",
      "34/34 [==============================] - 0s 4ms/step - loss: 7642.9155 - mae: 7642.9155\n",
      "Epoch 75/100\n",
      "34/34 [==============================] - 0s 6ms/step - loss: 7510.9390 - mae: 7510.9390\n",
      "Epoch 76/100\n",
      "34/34 [==============================] - 0s 6ms/step - loss: 7545.4561 - mae: 7545.4561\n",
      "Epoch 77/100\n",
      "34/34 [==============================] - 0s 5ms/step - loss: 7636.2188 - mae: 7636.2188\n",
      "Epoch 78/100\n",
      "34/34 [==============================] - 0s 5ms/step - loss: 7337.8652 - mae: 7337.8652\n",
      "Epoch 79/100\n",
      "34/34 [==============================] - 0s 5ms/step - loss: 7519.0435 - mae: 7519.0435\n",
      "Epoch 80/100\n",
      "34/34 [==============================] - 0s 5ms/step - loss: 7621.1255 - mae: 7621.1255\n",
      "Epoch 81/100\n",
      "34/34 [==============================] - 0s 6ms/step - loss: 7391.2168 - mae: 7391.2168\n",
      "Epoch 82/100\n"
     ]
    },
    {
     "name": "stdout",
     "output_type": "stream",
     "text": [
      "34/34 [==============================] - 0s 4ms/step - loss: 7503.3335 - mae: 7503.3335\n",
      "Epoch 83/100\n",
      "34/34 [==============================] - 0s 5ms/step - loss: 7711.2227 - mae: 7711.2227\n",
      "Epoch 84/100\n",
      "34/34 [==============================] - 0s 6ms/step - loss: 7435.7261 - mae: 7435.7261\n",
      "Epoch 85/100\n",
      "34/34 [==============================] - 0s 4ms/step - loss: 7726.8018 - mae: 7726.8018\n",
      "Epoch 86/100\n",
      "34/34 [==============================] - 0s 7ms/step - loss: 7469.9639 - mae: 7469.9639\n",
      "Epoch 87/100\n",
      "34/34 [==============================] - 0s 5ms/step - loss: 7383.7065 - mae: 7383.7065\n",
      "Epoch 88/100\n",
      "34/34 [==============================] - 0s 5ms/step - loss: 7334.7222 - mae: 7334.7222\n",
      "Epoch 89/100\n",
      "34/34 [==============================] - 0s 7ms/step - loss: 7491.4268 - mae: 7491.4268\n",
      "Epoch 90/100\n",
      "34/34 [==============================] - 0s 7ms/step - loss: 7473.0684 - mae: 7473.0684\n",
      "Epoch 91/100\n",
      "34/34 [==============================] - 0s 7ms/step - loss: 7318.5186 - mae: 7318.5186\n",
      "Epoch 92/100\n",
      "34/34 [==============================] - 0s 6ms/step - loss: 7629.1426 - mae: 7629.1426\n",
      "Epoch 93/100\n",
      "34/34 [==============================] - 0s 5ms/step - loss: 7640.6357 - mae: 7640.6357\n",
      "Epoch 94/100\n",
      "34/34 [==============================] - 0s 3ms/step - loss: 7183.4585 - mae: 7183.4585\n",
      "Epoch 95/100\n",
      "34/34 [==============================] - 0s 4ms/step - loss: 7695.5581 - mae: 7695.5581\n",
      "Epoch 96/100\n",
      "34/34 [==============================] - 0s 3ms/step - loss: 7293.8403 - mae: 7293.8403\n",
      "Epoch 97/100\n",
      "34/34 [==============================] - 0s 4ms/step - loss: 7419.3662 - mae: 7419.3662\n",
      "Epoch 98/100\n",
      "34/34 [==============================] - 0s 3ms/step - loss: 7501.4590 - mae: 7501.4590\n",
      "Epoch 99/100\n",
      "34/34 [==============================] - 0s 4ms/step - loss: 7547.2026 - mae: 7547.2026\n",
      "Epoch 100/100\n",
      "34/34 [==============================] - 0s 4ms/step - loss: 7391.7441 - mae: 7391.7441\n"
     ]
    },
    {
     "data": {
      "text/plain": [
       "<keras.callbacks.History at 0x1626f6d5670>"
      ]
     },
     "execution_count": 119,
     "metadata": {},
     "output_type": "execute_result"
    }
   ],
   "source": [
    "# Set random seed\n",
    "tf.random.set_seed(42)\n",
    "\n",
    "# Create a new model (same as model_2)\n",
    "insurance_model = tf.keras.Sequential([\n",
    "  tf.keras.layers.Dense(10),\n",
    "  tf.keras.layers.Dense(1)\n",
    "])\n",
    "\n",
    "# Compile the model\n",
    "insurance_model.compile(loss=tf.keras.losses.mae,\n",
    "                        optimizer=tf.keras.optimizers.SGD(),\n",
    "                        metrics=['mae'])\n",
    "\n",
    "# Fit the model\n",
    "insurance_model.fit(X_train, y_train, epochs=100)"
   ]
  },
  {
   "cell_type": "code",
   "execution_count": 120,
   "id": "c4df7579",
   "metadata": {},
   "outputs": [
    {
     "name": "stdout",
     "output_type": "stream",
     "text": [
      "9/9 [==============================] - 0s 7ms/step - loss: 8967.5273 - mae: 8967.5273\n"
     ]
    },
    {
     "data": {
      "text/plain": [
       "[8967.52734375, 8967.52734375]"
      ]
     },
     "execution_count": 120,
     "metadata": {},
     "output_type": "execute_result"
    }
   ],
   "source": [
    "# Check the results of the insurance model\n",
    "insurance_model.evaluate(X_test, y_test)"
   ]
  },
  {
   "cell_type": "markdown",
   "id": "9255a96e",
   "metadata": {},
   "source": [
    "Model didnt do so well"
   ]
  },
  {
   "cell_type": "code",
   "execution_count": 121,
   "id": "58c9aef0",
   "metadata": {},
   "outputs": [],
   "source": [
    "# Set random seed\n",
    "tf.random.set_seed(42)\n",
    "\n",
    "# Add an extra layer and increase number of units\n",
    "insurance_model_2 = tf.keras.Sequential([\n",
    "  tf.keras.layers.Dense(100), # 100 units\n",
    "  tf.keras.layers.Dense(10), # 10 units\n",
    "  tf.keras.layers.Dense(1) # 1 unit (important for output layer)\n",
    "])\n",
    "\n",
    "# Compile the model\n",
    "insurance_model_2.compile(loss=tf.keras.losses.mae,\n",
    "                          optimizer=tf.keras.optimizers.Adam(), # Adam works but SGD doesn't \n",
    "                          metrics=['mae'])\n",
    "\n",
    "# Fit the model and save the history (we can plot this)\n",
    "history = insurance_model_2.fit(X_train, y_train, epochs=1000, verbose=0)"
   ]
  },
  {
   "cell_type": "code",
   "execution_count": 122,
   "id": "8048c615",
   "metadata": {},
   "outputs": [
    {
     "name": "stdout",
     "output_type": "stream",
     "text": [
      "9/9 [==============================] - 0s 3ms/step - loss: 3242.7422 - mae: 3242.7422\n"
     ]
    },
    {
     "data": {
      "text/plain": [
       "[3242.7421875, 3242.7421875]"
      ]
     },
     "execution_count": 122,
     "metadata": {},
     "output_type": "execute_result"
    }
   ],
   "source": [
    "# Evaluate our larger model\n",
    "insurance_model_2.evaluate(X_test, y_test)"
   ]
  },
  {
   "cell_type": "markdown",
   "id": "f45190b0",
   "metadata": {},
   "source": [
    "Gives a better result after running the model longer"
   ]
  },
  {
   "cell_type": "code",
   "execution_count": 123,
   "id": "3442c807",
   "metadata": {
    "scrolled": true
   },
   "outputs": [
    {
     "data": {
      "image/png": "[encoded data removed]",
      "text/plain": [
       "<Figure size 432x288 with 1 Axes>"
      ]
     },
     "metadata": {
      "needs_background": "light"
     },
     "output_type": "display_data"
    }
   ],
   "source": [
    "# Plot history (also known as a loss curve)\n",
    "pd.DataFrame(history.history).plot()\n",
    "plt.ylabel(\"loss\")\n",
    "plt.xlabel(\"epochs\");"
   ]
  },
  {
   "cell_type": "code",
   "execution_count": 124,
   "id": "71f0c2de",
   "metadata": {},
   "outputs": [],
   "source": [
    "#now lets add another layer\n",
    "# Set random seed\n",
    "tf.random.set_seed(42)\n",
    "\n",
    "# Add an extra layer and increase number of units\n",
    "insurance_model_2 = tf.keras.Sequential([\n",
    "  tf.keras.layers.Dense(1000), # 1000 units\n",
    "  tf.keras.layers.Dense(100), # 100 units\n",
    "  tf.keras.layers.Dense(10), # 10 units\n",
    "  tf.keras.layers.Dense(1) # 1 unit (important for output layer)\n",
    "])\n",
    "\n",
    "# Compile the model\n",
    "insurance_model_2.compile(loss=tf.keras.losses.mae,\n",
    "                          optimizer=tf.keras.optimizers.Adam(), # Adam works but SGD doesn't \n",
    "                          metrics=['mae'])\n",
    "\n",
    "# Fit the model and save the history (we can plot this)\n",
    "history = insurance_model_2.fit(X_train, y_train, epochs=1000, verbose=0)"
   ]
  },
  {
   "cell_type": "code",
   "execution_count": 125,
   "id": "efc9a044",
   "metadata": {},
   "outputs": [
    {
     "name": "stdout",
     "output_type": "stream",
     "text": [
      "9/9 [==============================] - 0s 5ms/step - loss: 3166.2891 - mae: 3166.2891\n"
     ]
    },
    {
     "data": {
      "text/plain": [
       "[3166.2890625, 3166.2890625]"
      ]
     },
     "execution_count": 125,
     "metadata": {},
     "output_type": "execute_result"
    }
   ],
   "source": [
    "# Evaluate our larger model\n",
    "insurance_model_2.evaluate(X_test, y_test)"
   ]
  },
  {
   "cell_type": "code",
   "execution_count": null,
   "id": "70ff48fc",
   "metadata": {},
   "outputs": [],
   "source": []
  },
  {
   "cell_type": "markdown",
   "id": "f1fae3a3",
   "metadata": {},
   "source": [
    "#### Normalization and standardizing to try improve the model"
   ]
  },
  {
   "cell_type": "code",
   "execution_count": 126,
   "id": "16edabd5",
   "metadata": {},
   "outputs": [],
   "source": [
    "from sklearn.compose import make_column_transformer\n",
    "from sklearn.preprocessing import MinMaxScaler, OneHotEncoder\n",
    "from sklearn.model_selection import train_test_split\n",
    "\n",
    "# Create a column transformer\n",
    "ct = make_column_transformer(\n",
    "    (MinMaxScaler(), [\"age\", \"bmi\", \"children\"]), # Turn all values in these columns between 0 and 1\n",
    "    (OneHotEncoder(handle_unknown = \"ignore\"), [\"sex\",\"smoker\",\"region\"])\n",
    ")\n",
    "\n",
    "# Create X & y \n",
    "X = data.drop(\"charges\", axis = 1)\n",
    "y = data[\"charges\"]\n",
    "\n",
    "#Build out train and test sets\n",
    "X_train, X_test, y_train, y_test = train_test_split(X, y, test_size=0.2, random_state=42)\n",
    "\n",
    "# Fit the column transformer to our training data\n",
    "ct.fit(X_train)\n",
    "\n",
    "# Transform training amd test data with normalisation (MinMaxScaler) and OneHotEncoder\n",
    "X_train_normal = ct.transform(X_train)\n",
    "X_test_normal = ct.transform(X_test)"
   ]
  },
  {
   "cell_type": "code",
   "execution_count": 127,
   "id": "2f9c18a7",
   "metadata": {},
   "outputs": [
    {
     "data": {
      "text/plain": [
       "age         19.0\n",
       "sex          0.0\n",
       "bmi         27.9\n",
       "children     0.0\n",
       "smoker       1.0\n",
       "region       3.0\n",
       "Name: 0, dtype: float64"
      ]
     },
     "execution_count": 127,
     "metadata": {},
     "output_type": "execute_result"
    }
   ],
   "source": [
    "# what does our data look like now\n",
    "X_train.loc[0]"
   ]
  },
  {
   "cell_type": "code",
   "execution_count": 128,
   "id": "13678b35",
   "metadata": {},
   "outputs": [
    {
     "data": {
      "text/plain": [
       "array([0.60869565, 0.10734463, 0.4       , 1.        , 0.        ,\n",
       "       1.        , 0.        , 0.        , 1.        , 0.        ,\n",
       "       0.        ])"
      ]
     },
     "execution_count": 128,
     "metadata": {},
     "output_type": "execute_result"
    }
   ],
   "source": [
    "X_train_normal[0]"
   ]
  },
  {
   "cell_type": "code",
   "execution_count": 129,
   "id": "c2df2aed",
   "metadata": {},
   "outputs": [
    {
     "data": {
      "text/plain": [
       "array([0.        , 0.38081786, 0.        , 1.        , 0.        ,\n",
       "       1.        , 0.        , 1.        , 0.        , 0.        ,\n",
       "       0.        ])"
      ]
     },
     "execution_count": 129,
     "metadata": {},
     "output_type": "execute_result"
    }
   ],
   "source": [
    "X_train_normal[76]"
   ]
  },
  {
   "cell_type": "code",
   "execution_count": 130,
   "id": "dcdced40",
   "metadata": {},
   "outputs": [
    {
     "data": {
      "text/plain": [
       "array([[0.60869565, 0.10734463, 0.4       , ..., 1.        , 0.        ,\n",
       "        0.        ],\n",
       "       [0.63043478, 0.22491256, 0.        , ..., 0.        , 0.        ,\n",
       "        0.        ],\n",
       "       [0.73913043, 0.23944041, 0.        , ..., 0.        , 1.        ,\n",
       "        0.        ],\n",
       "       ...,\n",
       "       [0.86956522, 0.24791499, 0.        , ..., 0.        , 0.        ,\n",
       "        0.        ],\n",
       "       [0.41304348, 0.85122411, 0.4       , ..., 0.        , 0.        ,\n",
       "        1.        ],\n",
       "       [0.80434783, 0.37503363, 0.        , ..., 0.        , 0.        ,\n",
       "        1.        ]])"
      ]
     },
     "execution_count": 130,
     "metadata": {},
     "output_type": "execute_result"
    }
   ],
   "source": [
    "X_train_normal"
   ]
  },
  {
   "cell_type": "code",
   "execution_count": 131,
   "id": "0b1c5541",
   "metadata": {},
   "outputs": [
    {
     "data": {
      "text/plain": [
       "((1070, 6), (1070, 11))"
      ]
     },
     "execution_count": 131,
     "metadata": {},
     "output_type": "execute_result"
    }
   ],
   "source": [
    "# check the shapes\n",
    "X_train.shape, X_train_normal.shape"
   ]
  },
  {
   "cell_type": "markdown",
   "id": "b418c8f1",
   "metadata": {},
   "source": [
    "data has been normalised and one hot encoded. Now lets build a neural model and see how it goes"
   ]
  },
  {
   "cell_type": "code",
   "execution_count": 132,
   "id": "17b37ad5",
   "metadata": {},
   "outputs": [
    {
     "data": {
      "text/plain": [
       "<keras.callbacks.History at 0x1627a7079d0>"
      ]
     },
     "execution_count": 132,
     "metadata": {},
     "output_type": "execute_result"
    }
   ],
   "source": [
    "# Buikd our model to fit our normalised data\n",
    "\n",
    "# Set random seed\n",
    "tf.random.set_seed(42)\n",
    "\n",
    "# Build the model (3 layers, 100, 10, 1 units)\n",
    "insurance_model_4 = tf.keras.Sequential([\n",
    "  tf.keras.layers.Dense(1000),  \n",
    "  tf.keras.layers.Dense(100),\n",
    "  tf.keras.layers.Dense(10),\n",
    "  tf.keras.layers.Dense(1)\n",
    "])\n",
    "\n",
    "# Compile the model\n",
    "insurance_model_4.compile(loss=tf.keras.losses.mae,\n",
    "                          optimizer=tf.keras.optimizers.Adam(),\n",
    "                          metrics=['mae'])\n",
    "\n",
    "# Fit the model \n",
    "insurance_model_4.fit(X_train_normal, y_train, epochs=1000, verbose = 0) "
   ]
  },
  {
   "cell_type": "code",
   "execution_count": 133,
   "id": "90d5874e",
   "metadata": {},
   "outputs": [
    {
     "name": "stdout",
     "output_type": "stream",
     "text": [
      "9/9 [==============================] - 0s 5ms/step - loss: 3174.8044 - mae: 3174.8044\n"
     ]
    },
    {
     "data": {
      "text/plain": [
       "[3174.804443359375, 3174.804443359375]"
      ]
     },
     "execution_count": 133,
     "metadata": {},
     "output_type": "execute_result"
    }
   ],
   "source": [
    "# Evaluate our model trained on normalised data\n",
    "insurance_model_4.evaluate(X_test_normal, y_test)"
   ]
  },
  {
   "cell_type": "code",
   "execution_count": null,
   "id": "80e8770d",
   "metadata": {},
   "outputs": [],
   "source": []
  }
 ],
 "metadata": {
  "kernelspec": {
   "display_name": "Python 3 (ipykernel)",
   "language": "python",
   "name": "python3"
  },
  "language_info": {
   "codemirror_mode": {
    "name": "ipython",
    "version": 3
   },
   "file_extension": ".py",
   "mimetype": "text/x-python",
   "name": "python",
   "nbconvert_exporter": "python",
   "pygments_lexer": "ipython3",
   "version": "3.9.7"
  }
 },
 "nbformat": 4,
 "nbformat_minor": 5
}
